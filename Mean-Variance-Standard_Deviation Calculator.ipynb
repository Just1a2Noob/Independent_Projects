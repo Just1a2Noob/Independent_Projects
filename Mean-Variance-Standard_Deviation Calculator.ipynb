{
 "cells": [
  {
   "cell_type": "markdown",
   "id": "d1b26407",
   "metadata": {},
   "source": [
    "# Mean Variance Standard Deviation Calculator"
   ]
  },
  {
   "cell_type": "code",
   "execution_count": null,
   "id": "38090ba9",
   "metadata": {},
   "outputs": [],
   "source": [
    "import numpy as np\n",
    "\n",
    "\n",
    "def calculate(list):\n",
    "  calculations = {\n",
    "    'mean': [],\n",
    "    'variance': [],\n",
    "    'standard deviation': [],\n",
    "    'max': [],\n",
    "    'min': [],\n",
    "    'sum': []\n",
    "  }\n",
    "  matrices = np.array([list[0:3], list[3:6], list[6:9]])\n",
    "  calculations['mean'] = [\n",
    "    matrices.mean(axis=0).tolist(),\n",
    "    matrices.mean(axis=1).tolist(),\n",
    "    matrices.mean().tolist()\n",
    "    ]\n",
    "\n",
    "  calculations['variance'] = [\n",
    "    matrices.var(axis=0).tolist(),\n",
    "    matrices.var(axis=1).tolist(),\n",
    "    matrices.var().tolist()\n",
    "    ]\n",
    "\n",
    "  calculations['standard deviation'] = [\n",
    "    matrices.std(axis=0).tolist(),\n",
    "    matrices.std(axis=1).tolist(),\n",
    "    matrices.std().tolist()\n",
    "    ]\n",
    "\n",
    "  calculations['max'] = [\n",
    "    matrices.max(axis=0).tolist(),\n",
    "    matrices.max(axis=1).tolist(),\n",
    "    matrices.max().tolist()\n",
    "    ]\n",
    "\n",
    "  calculations['min'] = [\n",
    "    matrices.min(axis=0).tolist(),\n",
    "    matrices.min(axis=1).tolist(),\n",
    "    matrices.min().tolist()\n",
    "    ]\n",
    "\n",
    "  calculations['sum'] = [\n",
    "    matrices.sum(axis=0).tolist(),\n",
    "    matrices.sum(axis=1).tolist(),\n",
    "    matrices.sum().tolist()\n",
    "    ]\n",
    "\n",
    "  return calculations"
   ]
  }
 ],
 "metadata": {
  "kernelspec": {
   "display_name": "Python 3 (ipykernel)",
   "language": "python",
   "name": "python3"
  },
  "language_info": {
   "codemirror_mode": {
    "name": "ipython",
    "version": 3
   },
   "file_extension": ".py",
   "mimetype": "text/x-python",
   "name": "python",
   "nbconvert_exporter": "python",
   "pygments_lexer": "ipython3",
   "version": "3.9.16"
  }
 },
 "nbformat": 4,
 "nbformat_minor": 5
}
