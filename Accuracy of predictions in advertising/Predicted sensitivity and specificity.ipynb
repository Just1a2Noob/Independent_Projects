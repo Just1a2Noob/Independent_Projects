{
 "cells": [
  {
   "cell_type": "code",
   "execution_count": 140,
   "id": "46b713cb-f84e-46cd-9ae6-40ead5034fc8",
   "metadata": {},
   "outputs": [],
   "source": [
    "import numpy as np\n",
    "import pandas as pd"
   ]
  },
  {
   "cell_type": "code",
   "execution_count": 141,
   "id": "fb7dc455-b58f-4c2c-8c75-1307dfa088fe",
   "metadata": {},
   "outputs": [
    {
     "name": "stdout",
     "output_type": "stream",
     "text": [
      "<class 'pandas.core.frame.DataFrame'>\n",
      "RangeIndex: 1443140 entries, 0 to 1443139\n",
      "Data columns (total 12 columns):\n",
      " #   Column                 Non-Null Count    Dtype  \n",
      "---  ------                 --------------    -----  \n",
      " 0   religion               1443140 non-null  object \n",
      " 1   politics               1443140 non-null  object \n",
      " 2   college_educated       1443140 non-null  int64  \n",
      " 3   parents                1443140 non-null  int64  \n",
      " 4   homeowner              1443140 non-null  int64  \n",
      " 5   gender                 1443140 non-null  object \n",
      " 6   age                    1443140 non-null  object \n",
      " 7   income                 1443140 non-null  object \n",
      " 8   area                   1443140 non-null  object \n",
      " 9   true_conversion        1443140 non-null  int64  \n",
      " 10  predicted_conversion   1443140 non-null  int64  \n",
      " 11  predicted_probability  1443140 non-null  float64\n",
      "dtypes: float64(1), int64(5), object(6)\n",
      "memory usage: 132.1+ MB\n"
     ]
    }
   ],
   "source": [
    "df = pd.read_csv(r\"ad_campaign_data.csv\")\n",
    "df.info()"
   ]
  },
  {
   "cell_type": "code",
   "execution_count": 149,
   "id": "de0608dc-9d9c-4bb0-9745-a9d2bedbfb60",
   "metadata": {},
   "outputs": [
    {
     "name": "stdout",
     "output_type": "stream",
     "text": [
      "The sensitivity of predicted probability is:0.012674271229404309 \n",
      "The specificity of predicted probability is:0.9983730955535675\n"
     ]
    }
   ],
   "source": [
    "# This gives us true positives & false positives also true negatives & false negatives\n",
    "positive_true = df.loc[(df['predicted_conversion'] == 1) & (df['true_conversion'] == 1)]\n",
    "positive_false = df.loc[(df['predicted_conversion'] == 1) & (df['true_conversion'] == 0)]\n",
    "\n",
    "negative_true = df.loc[(df['predicted_conversion'] == 0) & (df['true_conversion'] == 0)]\n",
    "negative_false = df.loc[(df['predicted_conversion'] == 0) & (df['true_conversion'] == 1)]\n",
    "\n",
    "# Gives us the predicted probability analysis sensitivity and specificty\n",
    "predicted_sensitivity = len(positive_true) / (len(positive_true) + len(positive_false))\n",
    "predicted_specificity = len(negative_true) / (len(negative_false) + len(negative_true))\n",
    "\n",
    "print('The sensitivity of predicted probability is:' + str(predicted_sensitivity),\n",
    "     '\\nThe specificity of predicted probability is:' + str(predicted_specificity))"
   ]
  },
  {
   "cell_type": "code",
   "execution_count": 162,
   "id": "5573b993-10b5-4261-86ef-73e19ff28ad2",
   "metadata": {},
   "outputs": [
    {
     "name": "stdout",
     "output_type": "stream",
     "text": [
      "0-19% =1433197 \n",
      "20-39% =6991 \n",
      "40-59% =1450 \n",
      "60-79% =370 \n",
      "80-100% =45\n"
     ]
    }
   ],
   "source": [
    "# This function takes a dataframe and provides the percentage ranges in 20% bins\n",
    "# From this function we can know how confident does the analysis is on predicting the values\n",
    "def percentage_range(dataframe):\n",
    "    bin_1, bin_2, bin_3, bin_4, bin_5 = 0, 0, 0, 0, 0\n",
    "    for i in dataframe['predicted_probability']:\n",
    "        if (i >= 0) & (i < 0.19):\n",
    "            bin_1 = bin_1 + 1\n",
    "        if (i >= 0.2) & (i < 0.39):\n",
    "            bin_2 = bin_2 + 1\n",
    "        if (i >= 0.4) & (i < 0.59):\n",
    "            bin_3 = bin_3 + 1\n",
    "        if (i >= 0.6) & (i < 0.79):\n",
    "            bin_4 = bin_4 + 1\n",
    "        if (i >= 0.8) & (i < 1):\n",
    "            bin_5 = bin_5 + 1\n",
    "    \n",
    "    return print('0-19% =' + str(bin_1), \n",
    "                '\\n20-39% =' + str(bin_2),\n",
    "                '\\n40-59% ='+ str(bin_3),\n",
    "                '\\n60-79% =' + str(bin_4),\n",
    "                '\\n80-100% =' + str(bin_5))\n",
    "\n",
    "percentage_range(df) #The percentage ranges for all of the dataframe"
   ]
  },
  {
   "cell_type": "code",
   "execution_count": 136,
   "id": "ee6f4408-1ba8-4d22-8f87-805688a7d2e8",
   "metadata": {},
   "outputs": [
    {
     "data": {
      "text/html": [
       "<div>\n",
       "<style scoped>\n",
       "    .dataframe tbody tr th:only-of-type {\n",
       "        vertical-align: middle;\n",
       "    }\n",
       "\n",
       "    .dataframe tbody tr th {\n",
       "        vertical-align: top;\n",
       "    }\n",
       "\n",
       "    .dataframe thead th {\n",
       "        text-align: right;\n",
       "    }\n",
       "</style>\n",
       "<table border=\"1\" class=\"dataframe\">\n",
       "  <thead>\n",
       "    <tr style=\"text-align: right;\">\n",
       "      <th></th>\n",
       "      <th>college_educated</th>\n",
       "      <th>parents</th>\n",
       "      <th>homeowner</th>\n",
       "      <th>true_conversion</th>\n",
       "      <th>predicted_conversion</th>\n",
       "      <th>predicted_probability</th>\n",
       "    </tr>\n",
       "  </thead>\n",
       "  <tbody>\n",
       "    <tr>\n",
       "      <th>college_educated</th>\n",
       "      <td>1.000000</td>\n",
       "      <td>0.000125</td>\n",
       "      <td>0.000432</td>\n",
       "      <td>0.000034</td>\n",
       "      <td>-0.000070</td>\n",
       "      <td>-0.000200</td>\n",
       "    </tr>\n",
       "    <tr>\n",
       "      <th>parents</th>\n",
       "      <td>0.000125</td>\n",
       "      <td>1.000000</td>\n",
       "      <td>-0.000049</td>\n",
       "      <td>0.000984</td>\n",
       "      <td>-0.000337</td>\n",
       "      <td>-0.000433</td>\n",
       "    </tr>\n",
       "    <tr>\n",
       "      <th>homeowner</th>\n",
       "      <td>0.000432</td>\n",
       "      <td>-0.000049</td>\n",
       "      <td>1.000000</td>\n",
       "      <td>-0.002343</td>\n",
       "      <td>-0.087025</td>\n",
       "      <td>-0.165499</td>\n",
       "    </tr>\n",
       "    <tr>\n",
       "      <th>true_conversion</th>\n",
       "      <td>0.000034</td>\n",
       "      <td>0.000984</td>\n",
       "      <td>-0.002343</td>\n",
       "      <td>1.000000</td>\n",
       "      <td>0.011031</td>\n",
       "      <td>0.019683</td>\n",
       "    </tr>\n",
       "    <tr>\n",
       "      <th>predicted_conversion</th>\n",
       "      <td>-0.000070</td>\n",
       "      <td>-0.000337</td>\n",
       "      <td>-0.087025</td>\n",
       "      <td>0.011031</td>\n",
       "      <td>1.000000</td>\n",
       "      <td>0.587745</td>\n",
       "    </tr>\n",
       "    <tr>\n",
       "      <th>predicted_probability</th>\n",
       "      <td>-0.000200</td>\n",
       "      <td>-0.000433</td>\n",
       "      <td>-0.165499</td>\n",
       "      <td>0.019683</td>\n",
       "      <td>0.587745</td>\n",
       "      <td>1.000000</td>\n",
       "    </tr>\n",
       "  </tbody>\n",
       "</table>\n",
       "</div>"
      ],
      "text/plain": [
       "                       college_educated   parents  homeowner  true_conversion  \\\n",
       "college_educated               1.000000  0.000125   0.000432         0.000034   \n",
       "parents                        0.000125  1.000000  -0.000049         0.000984   \n",
       "homeowner                      0.000432 -0.000049   1.000000        -0.002343   \n",
       "true_conversion                0.000034  0.000984  -0.002343         1.000000   \n",
       "predicted_conversion          -0.000070 -0.000337  -0.087025         0.011031   \n",
       "predicted_probability         -0.000200 -0.000433  -0.165499         0.019683   \n",
       "\n",
       "                       predicted_conversion  predicted_probability  \n",
       "college_educated                  -0.000070              -0.000200  \n",
       "parents                           -0.000337              -0.000433  \n",
       "homeowner                         -0.087025              -0.165499  \n",
       "true_conversion                    0.011031               0.019683  \n",
       "predicted_conversion               1.000000               0.587745  \n",
       "predicted_probability              0.587745               1.000000  "
      ]
     },
     "execution_count": 136,
     "metadata": {},
     "output_type": "execute_result"
    }
   ],
   "source": [
    "df.corr()"
   ]
  }
 ],
 "metadata": {
  "kernelspec": {
   "display_name": "Python 3 (ipykernel)",
   "language": "python",
   "name": "python3"
  },
  "language_info": {
   "codemirror_mode": {
    "name": "ipython",
    "version": 3
   },
   "file_extension": ".py",
   "mimetype": "text/x-python",
   "name": "python",
   "nbconvert_exporter": "python",
   "pygments_lexer": "ipython3",
   "version": "3.9.13"
  }
 },
 "nbformat": 4,
 "nbformat_minor": 5
}
