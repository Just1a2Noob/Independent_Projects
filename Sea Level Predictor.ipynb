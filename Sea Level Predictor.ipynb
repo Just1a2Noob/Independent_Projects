{
 "cells": [
  {
   "cell_type": "code",
   "execution_count": null,
   "id": "73786c0b",
   "metadata": {},
   "outputs": [],
   "source": [
    "import pandas as pd\n",
    "import matplotlib.pyplot as plt\n",
    "from scipy.stats import linregress\n",
    "\n",
    "\n",
    "def draw_plot():\n",
    "    df = pd.read_csv(r\"epa-sea-level.csv\")\n",
    "\n",
    "    # Create scatter plot\n",
    "    x = df['Year']\n",
    "    y = df['CSIRO Adjusted Sea Level']\n",
    "    fig, ax = plt.subplots()\n",
    "    plt.scatter(x, y)\n",
    "\n",
    "    # Create first line of best fit\n",
    "    regres_line1 = linregress(x, y)\n",
    "    x_new = pd.Series([i for i in range(1880, 2051)])\n",
    "    y_new = regres_line1.slope * x_new + regres_line1.intercept\n",
    "    plt.plot(x_new, y_new, color=\"red\")\n",
    "\n",
    "    # Create second line of best fit\n",
    "    y2000_2050 = df.loc[df['Year'] >= 2000]\n",
    "    x_2 = y2000_2050['Year']\n",
    "    y_2 = y2000_2050['CSIRO Adjusted Sea Level']\n",
    "\n",
    "    regres_line2 = linregress(x_2, y_2)\n",
    "    x_new_2000 = pd.Series([i for i in range(2000, 2051)])\n",
    "    y_new_2000 = regres_line2.slope * x_new_2000 + regres_line2.intercept\n",
    "    plt.plot(x_new_2000, y_new_2000, color=\"green\")\n",
    "\n",
    "    plt.xlabel('Year')\n",
    "    plt.ylabel('Sea Level (inches)')\n",
    "    plt.title('Rise in Sea Level')\n",
    "\n",
    "    return plt.gca()"
   ]
  }
 ],
 "metadata": {
  "kernelspec": {
   "display_name": "Python 3 (ipykernel)",
   "language": "python",
   "name": "python3"
  },
  "language_info": {
   "codemirror_mode": {
    "name": "ipython",
    "version": 3
   },
   "file_extension": ".py",
   "mimetype": "text/x-python",
   "name": "python",
   "nbconvert_exporter": "python",
   "pygments_lexer": "ipython3",
   "version": "3.9.16"
  }
 },
 "nbformat": 4,
 "nbformat_minor": 5
}
